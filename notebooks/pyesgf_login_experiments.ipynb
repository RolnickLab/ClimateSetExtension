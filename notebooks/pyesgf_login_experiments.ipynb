{
 "cells": [
  {
   "cell_type": "code",
   "id": "initial_id",
   "metadata": {
    "collapsed": true,
    "ExecuteTime": {
     "end_time": "2024-06-17T20:32:07.981077Z",
     "start_time": "2024-06-17T20:32:07.753815Z"
    }
   },
   "source": "from pyesgf.logon import LogonManager",
   "outputs": [],
   "execution_count": 1
  },
  {
   "metadata": {
    "ExecuteTime": {
     "end_time": "2024-06-17T20:32:53.123568Z",
     "start_time": "2024-06-17T20:32:53.121256Z"
    }
   },
   "cell_type": "code",
   "source": "lm = LogonManager()",
   "id": "409adbb2e87e9fcd",
   "outputs": [],
   "execution_count": 2
  },
  {
   "metadata": {
    "ExecuteTime": {
     "end_time": "2024-06-17T20:32:54.903550Z",
     "start_time": "2024-06-17T20:32:54.901368Z"
    }
   },
   "cell_type": "code",
   "source": "lm.logoff()",
   "id": "337e421e9b07ba8d",
   "outputs": [],
   "execution_count": 3
  },
  {
   "metadata": {
    "ExecuteTime": {
     "end_time": "2024-06-17T20:32:56.554354Z",
     "start_time": "2024-06-17T20:32:56.549629Z"
    }
   },
   "cell_type": "code",
   "source": "lm.is_logged_on()",
   "id": "31ad42ad01482999",
   "outputs": [
    {
     "data": {
      "text/plain": [
       "False"
      ]
     },
     "execution_count": 4,
     "metadata": {},
     "output_type": "execute_result"
    }
   ],
   "execution_count": 4
  },
  {
   "metadata": {
    "ExecuteTime": {
     "end_time": "2024-06-17T21:04:36.880998Z",
     "start_time": "2024-06-17T21:04:28.101935Z"
    }
   },
   "cell_type": "code",
   "source": [
    "myproxy_host = 'esgf-data.dkrz.de'\n",
    "lm.logon(username=None, password=None, hostname=myproxy_host)\n",
    "lm.is_logged_on()"
   ],
   "id": "fb365d3794cdc9c0",
   "outputs": [
    {
     "name": "stdout",
     "output_type": "stream",
     "text": [
      "Enter myproxy username: "
     ]
    },
    {
     "ename": "Error",
     "evalue": "[('SSL routines', '', 'certificate verify failed')]",
     "output_type": "error",
     "traceback": [
      "\u001B[0;31m---------------------------------------------------------------------------\u001B[0m",
      "\u001B[0;31mError\u001B[0m                                     Traceback (most recent call last)",
      "Cell \u001B[0;32mIn[18], line 2\u001B[0m\n\u001B[1;32m      1\u001B[0m myproxy_host \u001B[38;5;241m=\u001B[39m \u001B[38;5;124m'\u001B[39m\u001B[38;5;124mesgf-data.dkrz.de\u001B[39m\u001B[38;5;124m'\u001B[39m\n\u001B[0;32m----> 2\u001B[0m \u001B[43mlm\u001B[49m\u001B[38;5;241;43m.\u001B[39;49m\u001B[43mlogon\u001B[49m\u001B[43m(\u001B[49m\u001B[43musername\u001B[49m\u001B[38;5;241;43m=\u001B[39;49m\u001B[38;5;28;43;01mNone\u001B[39;49;00m\u001B[43m,\u001B[49m\u001B[43m \u001B[49m\u001B[43mpassword\u001B[49m\u001B[38;5;241;43m=\u001B[39;49m\u001B[38;5;28;43;01mNone\u001B[39;49;00m\u001B[43m,\u001B[49m\u001B[43m \u001B[49m\u001B[43mhostname\u001B[49m\u001B[38;5;241;43m=\u001B[39;49m\u001B[43mmyproxy_host\u001B[49m\u001B[43m)\u001B[49m\n\u001B[1;32m      3\u001B[0m lm\u001B[38;5;241m.\u001B[39mis_logged_on()\n",
      "File \u001B[0;32m~/.micromamba/envs/climateset/lib/python3.11/site-packages/pyesgf/logon.py:184\u001B[0m, in \u001B[0;36mLogonManager.logon\u001B[0;34m(self, username, password, hostname, bootstrap, update_trustroots, interactive)\u001B[0m\n\u001B[1;32m    180\u001B[0m     \u001B[38;5;28;01mraise\u001B[39;00m OpenidResolutionError(\u001B[38;5;124m'\u001B[39m\u001B[38;5;124mFull logon details not available\u001B[39m\u001B[38;5;124m'\u001B[39m)\n\u001B[1;32m    182\u001B[0m c \u001B[38;5;241m=\u001B[39m MyProxyClient(hostname\u001B[38;5;241m=\u001B[39mhostname, caCertDir\u001B[38;5;241m=\u001B[39m\u001B[38;5;28mself\u001B[39m\u001B[38;5;241m.\u001B[39mesgf_certs_dir)\n\u001B[0;32m--> 184\u001B[0m creds \u001B[38;5;241m=\u001B[39m \u001B[43mc\u001B[49m\u001B[38;5;241;43m.\u001B[39;49m\u001B[43mlogon\u001B[49m\u001B[43m(\u001B[49m\u001B[43musername\u001B[49m\u001B[43m,\u001B[49m\u001B[43m \u001B[49m\u001B[43mpassword\u001B[49m\u001B[43m,\u001B[49m\n\u001B[1;32m    185\u001B[0m \u001B[43m                \u001B[49m\u001B[43mbootstrap\u001B[49m\u001B[38;5;241;43m=\u001B[39;49m\u001B[43mbootstrap\u001B[49m\u001B[43m,\u001B[49m\n\u001B[1;32m    186\u001B[0m \u001B[43m                \u001B[49m\u001B[43mupdateTrustRoots\u001B[49m\u001B[38;5;241;43m=\u001B[39;49m\u001B[43mupdate_trustroots\u001B[49m\u001B[43m)\u001B[49m\n\u001B[1;32m    187\u001B[0m \u001B[38;5;28;01mwith\u001B[39;00m \u001B[38;5;28mopen\u001B[39m(\u001B[38;5;28mself\u001B[39m\u001B[38;5;241m.\u001B[39mesgf_credentials, \u001B[38;5;124m'\u001B[39m\u001B[38;5;124mwb\u001B[39m\u001B[38;5;124m'\u001B[39m) \u001B[38;5;28;01mas\u001B[39;00m fh:\n\u001B[1;32m    188\u001B[0m     \u001B[38;5;28;01mfor\u001B[39;00m cred \u001B[38;5;129;01min\u001B[39;00m creds:\n",
      "File \u001B[0;32m~/.micromamba/envs/climateset/lib/python3.11/site-packages/myproxy/client/__init__.py:1453\u001B[0m, in \u001B[0;36mMyProxyClient.logon\u001B[0;34m(self, username, passphrase, credname, lifetime, keyPair, certReq, nBitsForKey, bootstrap, updateTrustRoots, authnGetTrustRootsCall, sslCertFile, sslKeyFile, sslKeyFilePassphrase)\u001B[0m\n\u001B[1;32m   1450\u001B[0m     \u001B[38;5;28;01melse\u001B[39;00m:\n\u001B[1;32m   1451\u001B[0m         getTrustRootsKw \u001B[38;5;241m=\u001B[39m {}\n\u001B[0;32m-> 1453\u001B[0m     \u001B[38;5;28;43mself\u001B[39;49m\u001B[38;5;241;43m.\u001B[39;49m\u001B[43mgetTrustRoots\u001B[49m\u001B[43m(\u001B[49m\u001B[43mwriteToCACertDir\u001B[49m\u001B[38;5;241;43m=\u001B[39;49m\u001B[38;5;28;43;01mTrue\u001B[39;49;00m\u001B[43m,\u001B[49m\n\u001B[1;32m   1454\u001B[0m \u001B[43m                       \u001B[49m\u001B[43mbootstrap\u001B[49m\u001B[38;5;241;43m=\u001B[39;49m\u001B[43mbootstrap\u001B[49m\u001B[43m,\u001B[49m\n\u001B[1;32m   1455\u001B[0m \u001B[43m                       \u001B[49m\u001B[38;5;241;43m*\u001B[39;49m\u001B[38;5;241;43m*\u001B[39;49m\u001B[43mgetTrustRootsKw\u001B[49m\u001B[43m)\u001B[49m\n\u001B[1;32m   1457\u001B[0m lifetime \u001B[38;5;241m=\u001B[39m lifetime \u001B[38;5;129;01mor\u001B[39;00m \u001B[38;5;28mself\u001B[39m\u001B[38;5;241m.\u001B[39mproxyCertLifetime\n\u001B[1;32m   1459\u001B[0m \u001B[38;5;66;03m# Basic sanity check on username to avoid overhead on server\u001B[39;00m\n",
      "File \u001B[0;32m~/.micromamba/envs/climateset/lib/python3.11/site-packages/myproxy/client/__init__.py:1612\u001B[0m, in \u001B[0;36mMyProxyClient.getTrustRoots\u001B[0;34m(self, username, passphrase, writeToCACertDir, bootstrap)\u001B[0m\n\u001B[1;32m   1609\u001B[0m conn\u001B[38;5;241m.\u001B[39mconnect((\u001B[38;5;28mself\u001B[39m\u001B[38;5;241m.\u001B[39mhostname, \u001B[38;5;28mself\u001B[39m\u001B[38;5;241m.\u001B[39mport))\n\u001B[1;32m   1611\u001B[0m \u001B[38;5;66;03m# send globus compatibility stuff\u001B[39;00m\n\u001B[0;32m-> 1612\u001B[0m \u001B[43mconn\u001B[49m\u001B[38;5;241;43m.\u001B[39;49m\u001B[43mwrite\u001B[49m\u001B[43m(\u001B[49m\u001B[38;5;28;43mself\u001B[39;49m\u001B[38;5;241;43m.\u001B[39;49m\u001B[38;5;18;43m__class__\u001B[39;49m\u001B[38;5;241;43m.\u001B[39;49m\u001B[43mGLOBUS_INIT_MSG\u001B[49m\u001B[43m)\u001B[49m\n\u001B[1;32m   1614\u001B[0m \u001B[38;5;66;03m# send get command - ensure conversion from unicode before writing\u001B[39;00m\n\u001B[1;32m   1615\u001B[0m cmd \u001B[38;5;241m=\u001B[39m \u001B[38;5;28mself\u001B[39m\u001B[38;5;241m.\u001B[39mGET_TRUST_ROOTS_CMD \u001B[38;5;241m%\u001B[39m (_string2bytes(username),\n\u001B[1;32m   1616\u001B[0m                                   _string2bytes(passphrase))\n",
      "File \u001B[0;32m~/.micromamba/envs/climateset/lib/python3.11/site-packages/OpenSSL/SSL.py:2018\u001B[0m, in \u001B[0;36mConnection.send\u001B[0;34m(self, buf, flags)\u001B[0m\n\u001B[1;32m   2013\u001B[0m     \u001B[38;5;28;01mraise\u001B[39;00m \u001B[38;5;167;01mValueError\u001B[39;00m(\n\u001B[1;32m   2014\u001B[0m         \u001B[38;5;124m\"\u001B[39m\u001B[38;5;124mCannot send more than 2**31-1 bytes at once.\u001B[39m\u001B[38;5;124m\"\u001B[39m\n\u001B[1;32m   2015\u001B[0m     )\n\u001B[1;32m   2017\u001B[0m result \u001B[38;5;241m=\u001B[39m _lib\u001B[38;5;241m.\u001B[39mSSL_write(\u001B[38;5;28mself\u001B[39m\u001B[38;5;241m.\u001B[39m_ssl, data, \u001B[38;5;28mlen\u001B[39m(data))\n\u001B[0;32m-> 2018\u001B[0m \u001B[38;5;28;43mself\u001B[39;49m\u001B[38;5;241;43m.\u001B[39;49m\u001B[43m_raise_ssl_error\u001B[49m\u001B[43m(\u001B[49m\u001B[38;5;28;43mself\u001B[39;49m\u001B[38;5;241;43m.\u001B[39;49m\u001B[43m_ssl\u001B[49m\u001B[43m,\u001B[49m\u001B[43m \u001B[49m\u001B[43mresult\u001B[49m\u001B[43m)\u001B[49m\n\u001B[1;32m   2020\u001B[0m \u001B[38;5;28;01mreturn\u001B[39;00m result\n",
      "File \u001B[0;32m~/.micromamba/envs/climateset/lib/python3.11/site-packages/OpenSSL/SSL.py:1834\u001B[0m, in \u001B[0;36mConnection._raise_ssl_error\u001B[0;34m(self, ssl, result)\u001B[0m\n\u001B[1;32m   1832\u001B[0m reason \u001B[38;5;241m=\u001B[39m _lib\u001B[38;5;241m.\u001B[39mERR_GET_REASON(peeked_error)\n\u001B[1;32m   1833\u001B[0m \u001B[38;5;28;01mif\u001B[39;00m _lib\u001B[38;5;241m.\u001B[39mCryptography_HAS_UNEXPECTED_EOF_WHILE_READING:\n\u001B[0;32m-> 1834\u001B[0m     \u001B[43m_openssl_assert\u001B[49m\u001B[43m(\u001B[49m\n\u001B[1;32m   1835\u001B[0m \u001B[43m        \u001B[49m\u001B[43mreason\u001B[49m\u001B[43m \u001B[49m\u001B[38;5;241;43m==\u001B[39;49m\u001B[43m \u001B[49m\u001B[43m_lib\u001B[49m\u001B[38;5;241;43m.\u001B[39;49m\u001B[43mSSL_R_UNEXPECTED_EOF_WHILE_READING\u001B[49m\n\u001B[1;32m   1836\u001B[0m \u001B[43m    \u001B[49m\u001B[43m)\u001B[49m\n\u001B[1;32m   1837\u001B[0m     _lib\u001B[38;5;241m.\u001B[39mERR_clear_error()\n\u001B[1;32m   1838\u001B[0m     \u001B[38;5;28;01mraise\u001B[39;00m SysCallError(\u001B[38;5;241m-\u001B[39m\u001B[38;5;241m1\u001B[39m, \u001B[38;5;124m\"\u001B[39m\u001B[38;5;124mUnexpected EOF\u001B[39m\u001B[38;5;124m\"\u001B[39m)\n",
      "File \u001B[0;32m~/.micromamba/envs/climateset/lib/python3.11/site-packages/OpenSSL/_util.py:71\u001B[0m, in \u001B[0;36mmake_assert.<locals>.openssl_assert\u001B[0;34m(ok)\u001B[0m\n\u001B[1;32m     67\u001B[0m \u001B[38;5;250m\u001B[39m\u001B[38;5;124;03m\"\"\"\u001B[39;00m\n\u001B[1;32m     68\u001B[0m \u001B[38;5;124;03mIf *ok* is not True, retrieve the error from OpenSSL and raise it.\u001B[39;00m\n\u001B[1;32m     69\u001B[0m \u001B[38;5;124;03m\"\"\"\u001B[39;00m\n\u001B[1;32m     70\u001B[0m \u001B[38;5;28;01mif\u001B[39;00m ok \u001B[38;5;129;01mis\u001B[39;00m \u001B[38;5;129;01mnot\u001B[39;00m \u001B[38;5;28;01mTrue\u001B[39;00m:\n\u001B[0;32m---> 71\u001B[0m     \u001B[43mexception_from_error_queue\u001B[49m\u001B[43m(\u001B[49m\u001B[43merror\u001B[49m\u001B[43m)\u001B[49m\n",
      "File \u001B[0;32m~/.micromamba/envs/climateset/lib/python3.11/site-packages/OpenSSL/_util.py:57\u001B[0m, in \u001B[0;36mexception_from_error_queue\u001B[0;34m(exception_type)\u001B[0m\n\u001B[1;32m     48\u001B[0m         \u001B[38;5;28;01mbreak\u001B[39;00m\n\u001B[1;32m     49\u001B[0m     errors\u001B[38;5;241m.\u001B[39mappend(\n\u001B[1;32m     50\u001B[0m         (\n\u001B[1;32m     51\u001B[0m             text(lib\u001B[38;5;241m.\u001B[39mERR_lib_error_string(error)),\n\u001B[0;32m   (...)\u001B[0m\n\u001B[1;32m     54\u001B[0m         )\n\u001B[1;32m     55\u001B[0m     )\n\u001B[0;32m---> 57\u001B[0m \u001B[38;5;28;01mraise\u001B[39;00m exception_type(errors)\n",
      "\u001B[0;31mError\u001B[0m: [('SSL routines', '', 'certificate verify failed')]"
     ]
    }
   ],
   "execution_count": 18
  },
  {
   "metadata": {
    "ExecuteTime": {
     "end_time": "2024-06-17T21:13:24.886982Z",
     "start_time": "2024-06-17T21:13:24.884692Z"
    }
   },
   "cell_type": "code",
   "source": [
    "from pyesgf.search import SearchConnection\n",
    "import tempfile\n",
    "import os, subprocess\n",
    "from time import sleep\n"
   ],
   "id": "787a31dcca940138",
   "outputs": [],
   "execution_count": 20
  },
  {
   "metadata": {
    "ExecuteTime": {
     "end_time": "2024-06-17T21:15:17.040671Z",
     "start_time": "2024-06-17T21:15:16.988931Z"
    }
   },
   "cell_type": "code",
   "source": [
    "\n",
    "# conn = SearchConnection('https://esgf-data.dkrz.de/esg-search', distrib=False)\n",
    "# ctx = conn.new_context(project='obs4MIPs', institute='FUB-DWD')\n",
    "# ds = ctx.search()[0]\n",
    "# \n",
    "# fc = ds.file_context()\n",
    "# wget_script_content = fc.get_download_script()\n",
    "script_path = tempfile.mkstemp(suffix='.sh', prefix='download-', dir=\"/tmp/download_test\")[1]\n",
    "# with open(script_path, \"w\") as writer:\n",
    "#     writer.write(wget_script_content)\n",
    "# \n",
    "# sleep(5)\n",
    "# os.chmod(script_path, 0o750)\n",
    "download_dir = os.path.dirname(\"/tmp/download_test\")\n",
    "subprocess.check_output(\"{}\".format(script_path), cwd=download_dir)"
   ],
   "id": "4d53296d81dd00d6",
   "outputs": [
    {
     "ename": "PermissionError",
     "evalue": "[Errno 13] Permission denied: '/tmp/download_test/download-s2q6fbns.sh'",
     "output_type": "error",
     "traceback": [
      "\u001B[0;31m---------------------------------------------------------------------------\u001B[0m",
      "\u001B[0;31mPermissionError\u001B[0m                           Traceback (most recent call last)",
      "Cell \u001B[0;32mIn[22], line 14\u001B[0m\n\u001B[1;32m      8\u001B[0m \u001B[38;5;66;03m# with open(script_path, \"w\") as writer:\u001B[39;00m\n\u001B[1;32m      9\u001B[0m \u001B[38;5;66;03m#     writer.write(wget_script_content)\u001B[39;00m\n\u001B[1;32m     10\u001B[0m \u001B[38;5;66;03m# \u001B[39;00m\n\u001B[1;32m     11\u001B[0m \u001B[38;5;66;03m# sleep(5)\u001B[39;00m\n\u001B[1;32m     12\u001B[0m \u001B[38;5;66;03m# os.chmod(script_path, 0o750)\u001B[39;00m\n\u001B[1;32m     13\u001B[0m download_dir \u001B[38;5;241m=\u001B[39m os\u001B[38;5;241m.\u001B[39mpath\u001B[38;5;241m.\u001B[39mdirname(\u001B[38;5;124m\"\u001B[39m\u001B[38;5;124m/tmp/download_test\u001B[39m\u001B[38;5;124m\"\u001B[39m)\n\u001B[0;32m---> 14\u001B[0m \u001B[43msubprocess\u001B[49m\u001B[38;5;241;43m.\u001B[39;49m\u001B[43mcheck_output\u001B[49m\u001B[43m(\u001B[49m\u001B[38;5;124;43m\"\u001B[39;49m\u001B[38;5;132;43;01m{}\u001B[39;49;00m\u001B[38;5;124;43m\"\u001B[39;49m\u001B[38;5;241;43m.\u001B[39;49m\u001B[43mformat\u001B[49m\u001B[43m(\u001B[49m\u001B[43mscript_path\u001B[49m\u001B[43m)\u001B[49m\u001B[43m,\u001B[49m\u001B[43m \u001B[49m\u001B[43mcwd\u001B[49m\u001B[38;5;241;43m=\u001B[39;49m\u001B[43mdownload_dir\u001B[49m\u001B[43m)\u001B[49m\n",
      "File \u001B[0;32m~/.micromamba/envs/climateset/lib/python3.11/subprocess.py:466\u001B[0m, in \u001B[0;36mcheck_output\u001B[0;34m(timeout, *popenargs, **kwargs)\u001B[0m\n\u001B[1;32m    463\u001B[0m         empty \u001B[38;5;241m=\u001B[39m \u001B[38;5;124mb\u001B[39m\u001B[38;5;124m'\u001B[39m\u001B[38;5;124m'\u001B[39m\n\u001B[1;32m    464\u001B[0m     kwargs[\u001B[38;5;124m'\u001B[39m\u001B[38;5;124minput\u001B[39m\u001B[38;5;124m'\u001B[39m] \u001B[38;5;241m=\u001B[39m empty\n\u001B[0;32m--> 466\u001B[0m \u001B[38;5;28;01mreturn\u001B[39;00m \u001B[43mrun\u001B[49m\u001B[43m(\u001B[49m\u001B[38;5;241;43m*\u001B[39;49m\u001B[43mpopenargs\u001B[49m\u001B[43m,\u001B[49m\u001B[43m \u001B[49m\u001B[43mstdout\u001B[49m\u001B[38;5;241;43m=\u001B[39;49m\u001B[43mPIPE\u001B[49m\u001B[43m,\u001B[49m\u001B[43m \u001B[49m\u001B[43mtimeout\u001B[49m\u001B[38;5;241;43m=\u001B[39;49m\u001B[43mtimeout\u001B[49m\u001B[43m,\u001B[49m\u001B[43m \u001B[49m\u001B[43mcheck\u001B[49m\u001B[38;5;241;43m=\u001B[39;49m\u001B[38;5;28;43;01mTrue\u001B[39;49;00m\u001B[43m,\u001B[49m\n\u001B[1;32m    467\u001B[0m \u001B[43m           \u001B[49m\u001B[38;5;241;43m*\u001B[39;49m\u001B[38;5;241;43m*\u001B[39;49m\u001B[43mkwargs\u001B[49m\u001B[43m)\u001B[49m\u001B[38;5;241m.\u001B[39mstdout\n",
      "File \u001B[0;32m~/.micromamba/envs/climateset/lib/python3.11/subprocess.py:548\u001B[0m, in \u001B[0;36mrun\u001B[0;34m(input, capture_output, timeout, check, *popenargs, **kwargs)\u001B[0m\n\u001B[1;32m    545\u001B[0m     kwargs[\u001B[38;5;124m'\u001B[39m\u001B[38;5;124mstdout\u001B[39m\u001B[38;5;124m'\u001B[39m] \u001B[38;5;241m=\u001B[39m PIPE\n\u001B[1;32m    546\u001B[0m     kwargs[\u001B[38;5;124m'\u001B[39m\u001B[38;5;124mstderr\u001B[39m\u001B[38;5;124m'\u001B[39m] \u001B[38;5;241m=\u001B[39m PIPE\n\u001B[0;32m--> 548\u001B[0m \u001B[38;5;28;01mwith\u001B[39;00m \u001B[43mPopen\u001B[49m\u001B[43m(\u001B[49m\u001B[38;5;241;43m*\u001B[39;49m\u001B[43mpopenargs\u001B[49m\u001B[43m,\u001B[49m\u001B[43m \u001B[49m\u001B[38;5;241;43m*\u001B[39;49m\u001B[38;5;241;43m*\u001B[39;49m\u001B[43mkwargs\u001B[49m\u001B[43m)\u001B[49m \u001B[38;5;28;01mas\u001B[39;00m process:\n\u001B[1;32m    549\u001B[0m     \u001B[38;5;28;01mtry\u001B[39;00m:\n\u001B[1;32m    550\u001B[0m         stdout, stderr \u001B[38;5;241m=\u001B[39m process\u001B[38;5;241m.\u001B[39mcommunicate(\u001B[38;5;28minput\u001B[39m, timeout\u001B[38;5;241m=\u001B[39mtimeout)\n",
      "File \u001B[0;32m~/.micromamba/envs/climateset/lib/python3.11/subprocess.py:1026\u001B[0m, in \u001B[0;36mPopen.__init__\u001B[0;34m(self, args, bufsize, executable, stdin, stdout, stderr, preexec_fn, close_fds, shell, cwd, env, universal_newlines, startupinfo, creationflags, restore_signals, start_new_session, pass_fds, user, group, extra_groups, encoding, errors, text, umask, pipesize, process_group)\u001B[0m\n\u001B[1;32m   1022\u001B[0m         \u001B[38;5;28;01mif\u001B[39;00m \u001B[38;5;28mself\u001B[39m\u001B[38;5;241m.\u001B[39mtext_mode:\n\u001B[1;32m   1023\u001B[0m             \u001B[38;5;28mself\u001B[39m\u001B[38;5;241m.\u001B[39mstderr \u001B[38;5;241m=\u001B[39m io\u001B[38;5;241m.\u001B[39mTextIOWrapper(\u001B[38;5;28mself\u001B[39m\u001B[38;5;241m.\u001B[39mstderr,\n\u001B[1;32m   1024\u001B[0m                     encoding\u001B[38;5;241m=\u001B[39mencoding, errors\u001B[38;5;241m=\u001B[39merrors)\n\u001B[0;32m-> 1026\u001B[0m     \u001B[38;5;28;43mself\u001B[39;49m\u001B[38;5;241;43m.\u001B[39;49m\u001B[43m_execute_child\u001B[49m\u001B[43m(\u001B[49m\u001B[43margs\u001B[49m\u001B[43m,\u001B[49m\u001B[43m \u001B[49m\u001B[43mexecutable\u001B[49m\u001B[43m,\u001B[49m\u001B[43m \u001B[49m\u001B[43mpreexec_fn\u001B[49m\u001B[43m,\u001B[49m\u001B[43m \u001B[49m\u001B[43mclose_fds\u001B[49m\u001B[43m,\u001B[49m\n\u001B[1;32m   1027\u001B[0m \u001B[43m                        \u001B[49m\u001B[43mpass_fds\u001B[49m\u001B[43m,\u001B[49m\u001B[43m \u001B[49m\u001B[43mcwd\u001B[49m\u001B[43m,\u001B[49m\u001B[43m \u001B[49m\u001B[43menv\u001B[49m\u001B[43m,\u001B[49m\n\u001B[1;32m   1028\u001B[0m \u001B[43m                        \u001B[49m\u001B[43mstartupinfo\u001B[49m\u001B[43m,\u001B[49m\u001B[43m \u001B[49m\u001B[43mcreationflags\u001B[49m\u001B[43m,\u001B[49m\u001B[43m \u001B[49m\u001B[43mshell\u001B[49m\u001B[43m,\u001B[49m\n\u001B[1;32m   1029\u001B[0m \u001B[43m                        \u001B[49m\u001B[43mp2cread\u001B[49m\u001B[43m,\u001B[49m\u001B[43m \u001B[49m\u001B[43mp2cwrite\u001B[49m\u001B[43m,\u001B[49m\n\u001B[1;32m   1030\u001B[0m \u001B[43m                        \u001B[49m\u001B[43mc2pread\u001B[49m\u001B[43m,\u001B[49m\u001B[43m \u001B[49m\u001B[43mc2pwrite\u001B[49m\u001B[43m,\u001B[49m\n\u001B[1;32m   1031\u001B[0m \u001B[43m                        \u001B[49m\u001B[43merrread\u001B[49m\u001B[43m,\u001B[49m\u001B[43m \u001B[49m\u001B[43merrwrite\u001B[49m\u001B[43m,\u001B[49m\n\u001B[1;32m   1032\u001B[0m \u001B[43m                        \u001B[49m\u001B[43mrestore_signals\u001B[49m\u001B[43m,\u001B[49m\n\u001B[1;32m   1033\u001B[0m \u001B[43m                        \u001B[49m\u001B[43mgid\u001B[49m\u001B[43m,\u001B[49m\u001B[43m \u001B[49m\u001B[43mgids\u001B[49m\u001B[43m,\u001B[49m\u001B[43m \u001B[49m\u001B[43muid\u001B[49m\u001B[43m,\u001B[49m\u001B[43m \u001B[49m\u001B[43mumask\u001B[49m\u001B[43m,\u001B[49m\n\u001B[1;32m   1034\u001B[0m \u001B[43m                        \u001B[49m\u001B[43mstart_new_session\u001B[49m\u001B[43m,\u001B[49m\u001B[43m \u001B[49m\u001B[43mprocess_group\u001B[49m\u001B[43m)\u001B[49m\n\u001B[1;32m   1035\u001B[0m \u001B[38;5;28;01mexcept\u001B[39;00m:\n\u001B[1;32m   1036\u001B[0m     \u001B[38;5;66;03m# Cleanup if the child failed starting.\u001B[39;00m\n\u001B[1;32m   1037\u001B[0m     \u001B[38;5;28;01mfor\u001B[39;00m f \u001B[38;5;129;01min\u001B[39;00m \u001B[38;5;28mfilter\u001B[39m(\u001B[38;5;28;01mNone\u001B[39;00m, (\u001B[38;5;28mself\u001B[39m\u001B[38;5;241m.\u001B[39mstdin, \u001B[38;5;28mself\u001B[39m\u001B[38;5;241m.\u001B[39mstdout, \u001B[38;5;28mself\u001B[39m\u001B[38;5;241m.\u001B[39mstderr)):\n",
      "File \u001B[0;32m~/.micromamba/envs/climateset/lib/python3.11/subprocess.py:1955\u001B[0m, in \u001B[0;36mPopen._execute_child\u001B[0;34m(self, args, executable, preexec_fn, close_fds, pass_fds, cwd, env, startupinfo, creationflags, shell, p2cread, p2cwrite, c2pread, c2pwrite, errread, errwrite, restore_signals, gid, gids, uid, umask, start_new_session, process_group)\u001B[0m\n\u001B[1;32m   1953\u001B[0m     err_msg \u001B[38;5;241m=\u001B[39m os\u001B[38;5;241m.\u001B[39mstrerror(errno_num)\n\u001B[1;32m   1954\u001B[0m \u001B[38;5;28;01mif\u001B[39;00m err_filename \u001B[38;5;129;01mis\u001B[39;00m \u001B[38;5;129;01mnot\u001B[39;00m \u001B[38;5;28;01mNone\u001B[39;00m:\n\u001B[0;32m-> 1955\u001B[0m     \u001B[38;5;28;01mraise\u001B[39;00m child_exception_type(errno_num, err_msg, err_filename)\n\u001B[1;32m   1956\u001B[0m \u001B[38;5;28;01melse\u001B[39;00m:\n\u001B[1;32m   1957\u001B[0m     \u001B[38;5;28;01mraise\u001B[39;00m child_exception_type(errno_num, err_msg)\n",
      "\u001B[0;31mPermissionError\u001B[0m: [Errno 13] Permission denied: '/tmp/download_test/download-s2q6fbns.sh'"
     ]
    }
   ],
   "execution_count": 22
  },
  {
   "metadata": {},
   "cell_type": "code",
   "outputs": [],
   "execution_count": null,
   "source": "",
   "id": "4e586bcb340c5b96"
  }
 ],
 "metadata": {
  "kernelspec": {
   "display_name": "Python 3",
   "language": "python",
   "name": "python3"
  },
  "language_info": {
   "codemirror_mode": {
    "name": "ipython",
    "version": 2
   },
   "file_extension": ".py",
   "mimetype": "text/x-python",
   "name": "python",
   "nbconvert_exporter": "python",
   "pygments_lexer": "ipython2",
   "version": "2.7.6"
  }
 },
 "nbformat": 4,
 "nbformat_minor": 5
}
